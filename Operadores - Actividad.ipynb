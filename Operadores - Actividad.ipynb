{
 "cells": [
  {
   "cell_type": "markdown",
   "metadata": {},
   "source": [
    "## Operadores - Actividad"
   ]
  },
  {
   "cell_type": "markdown",
   "metadata": {},
   "source": [
    "1) Pedir al usuario dos números y mostrar por pantalla la suma de ellos."
   ]
  },
  {
   "cell_type": "code",
   "execution_count": 1,
   "metadata": {},
   "outputs": [
    {
     "name": "stdout",
     "output_type": "stream",
     "text": [
      "La suma de los dos números es igual a: 4\n"
     ]
    }
   ],
   "source": [
    "num1 = input (\"Ingrese el primer número: \")\n",
    "num2 = input (\"Ingrese el segundo número: \")\n",
    "suma = int(num1) + int(num2)\n",
    "print(\"La suma de los dos números es igual a:\",suma)"
   ]
  },
  {
   "cell_type": "markdown",
   "metadata": {},
   "source": [
    "2) Calcular el perímetro y área de un rectángulo dada su base y su altura (el usuario debe introducir por teclado los dos valores)."
   ]
  },
  {
   "cell_type": "code",
   "execution_count": 1,
   "metadata": {},
   "outputs": [
    {
     "name": "stdout",
     "output_type": "stream",
     "text": [
      "El perimetro del rectangulo es: 8\n",
      "El area del rectangulo es: 4\n"
     ]
    }
   ],
   "source": [
    "base = int(input(\"Ingrese la base del rectangulo:\"))\n",
    "alt = int(input(\"Ingrese la altura del rectangulo:\"))\n",
    "\n",
    "perim = ((base*2) + (alt*2))\n",
    "area = base * alt\n",
    "\n",
    "print(\"El perimetro del rectangulo es:\", perim)\n",
    "print(\"El área del rectangulo es:\", area)"
   ]
  },
  {
   "cell_type": "markdown",
   "metadata": {},
   "source": [
    "3) Calcular el resultado de elevar un número entero a otro número entero (por ejemplo, 5 elevado a 3 = 5^3 = 5*5*5)."
   ]
  },
  {
   "cell_type": "code",
   "execution_count": 2,
   "metadata": {},
   "outputs": [
    {
     "name": "stdout",
     "output_type": "stream",
     "text": [
      "8\n"
     ]
    }
   ],
   "source": [
    "calc = 2 ** 3\n",
    "\n",
    "print(calc)"
   ]
  },
  {
   "cell_type": "markdown",
   "metadata": {},
   "source": [
    "4) Escribe un programa que convierta grados Celsius a grados Fahrenheit utilizando la fórmula: **F = (C * 9/5) + 32**"
   ]
  },
  {
   "cell_type": "code",
   "execution_count": 6,
   "metadata": {},
   "outputs": [
    {
     "name": "stdout",
     "output_type": "stream",
     "text": [
      "El valor ingresado convertido en grados Fahrenheit es: 68 °\n"
     ]
    }
   ],
   "source": [
    "cel = int(input(\"Ingrese los grados Celsius que desea convertir:\"))\n",
    "\n",
    "far = int((cel * 9/5) + 32)\n",
    "\n",
    "print (\"El valor convertido en grados Fahrenheit es:\",far,\"°\")\n"
   ]
  },
  {
   "cell_type": "markdown",
   "metadata": {},
   "source": [
    "5) Pedir al usuario su edad y mostrar por pantalla si es mayor de edad o no. (Mayor de edad >= 18)"
   ]
  },
  {
   "cell_type": "code",
   "execution_count": 5,
   "metadata": {},
   "outputs": [
    {
     "name": "stdout",
     "output_type": "stream",
     "text": [
      "18\n",
      "Usted es mayor de edad\n"
     ]
    }
   ],
   "source": [
    "edad = int(input(\"Ingrese su edad:\"))\n",
    "\n",
    "print (edad)\n",
    "if edad >= 18:\n",
    "    print(\"Usted es mayor de edad\")\n",
    "else: \n",
    "    print(\"Usted NO es mayor de edad\")"
   ]
  },
  {
   "cell_type": "markdown",
   "metadata": {},
   "source": [
    "6) Comprobar si el numero ingresado por el usuario es par o impar."
   ]
  },
  {
   "cell_type": "code",
   "execution_count": 15,
   "metadata": {},
   "outputs": [
    {
     "name": "stdout",
     "output_type": "stream",
     "text": [
      "El número 3 es impar\n"
     ]
    }
   ],
   "source": [
    "num1 = int(input(\"Ingrese un numero:\"))\n",
    "\n",
    "if num1 % 2 == 0:\n",
    "    print (\"El número\",num1, \"es par\")\n",
    "else:\n",
    "    print (\"El número\",num1, \"es impar\")    "
   ]
  },
  {
   "cell_type": "markdown",
   "metadata": {},
   "source": [
    "7) Pedir al usuario que ingrese su dirección email y luego mostrar un mensaje indicando si la dirección es válida o no. Una dirección se considerará válida si contiene el símbolo \"@\"."
   ]
  },
  {
   "cell_type": "code",
   "execution_count": null,
   "metadata": {},
   "outputs": [],
   "source": [
    "mail = input(\"Ingrese su direccion de mail\")\n",
    "\n",
    "if \"@\" in mail:\n",
    "    print(\"La direccion de mail es válida\")\n",
    "\n",
    "print(\"El correo es valido?\", \"@\" in mail)"
   ]
  },
  {
   "cell_type": "markdown",
   "metadata": {},
   "source": [
    "8) Dado un número de dos cifras, diseñe un algoritmo que permita obtener el número invertido. Ejemplo, si se introduce 23 que muestre 32. (Recordar que las cadenas pueden tratarse como listas de caracteres)."
   ]
  },
  {
   "cell_type": "code",
   "execution_count": 1,
   "metadata": {},
   "outputs": [
    {
     "name": "stdout",
     "output_type": "stream",
     "text": [
      "El número invertido es igual a: 31\n"
     ]
    }
   ],
   "source": [
    "cifras = int(input(\"Introduce la cantidad de cifras que tiene el número:\"))\n",
    "num4 = int(input(\"Ingrese el número:\"))\n",
    "\n",
    "if cifras >= 2:\n",
    "    print(\"El número invertido es igual a:\", (str(num4)[::-1]))\n",
    "else:\n",
    "    print(\"No es un número de dos cifras\")"
   ]
  },
  {
   "cell_type": "markdown",
   "metadata": {},
   "source": [
    "9) Crea un programa que pida al usuario dos números y muestre True si ambos son mayores que 10."
   ]
  },
  {
   "cell_type": "code",
   "execution_count": 1,
   "metadata": {},
   "outputs": [
    {
     "name": "stdout",
     "output_type": "stream",
     "text": [
      "¿Ambos valores son mayores a 10? True\n"
     ]
    }
   ],
   "source": [
    "nume1 = int(input(\"Ingrese un número:\"))\n",
    "nume2 = int(input(\"Ingrese otro número:\"))\n",
    "\n",
    "print(\"¿Ambos valores son mayores a 10?\", nume1>10 and nume2>10 )"
   ]
  },
  {
   "cell_type": "markdown",
   "metadata": {},
   "source": [
    "10) Escribe un programa que verifique si un número ingresado por el usuario es divisible por 3 y por 5."
   ]
  },
  {
   "cell_type": "code",
   "execution_count": null,
   "metadata": {},
   "outputs": [],
   "source": [
    "divis = int(input(\"Ingrese un número:\"))\n",
    "\n",
    "if (divis % 3 == 0) and (divis % 5 == 0):\n",
    "    print(\"El número ingresado es divible por 3 y por 5.\")\n",
    "else:\n",
    "    print(\"El número ingresado NO es divible por 3 y por 5.\")"
   ]
  },
  {
   "cell_type": "markdown",
   "metadata": {},
   "source": [
    "11) Utilizando la información del punto 5, preguntar al usuario si posee carnet de conducir, luego verificar si puede conducir un automóvil."
   ]
  },
  {
   "cell_type": "code",
   "execution_count": 6,
   "metadata": {},
   "outputs": [
    {
     "name": "stdout",
     "output_type": "stream",
     "text": [
      "No podés conducir un automóvil\n"
     ]
    }
   ],
   "source": [
    "carnet = input (\"¿Tiene carnet de conducir? (SI/NO)\")\n",
    "\n",
    "if edad >= 18 and carnet == \"si\":\n",
    "    print(\"Podes conducir un automóvil\")\n",
    "else: \n",
    "    print(\"No podés conducir un automóvil\")"
   ]
  },
  {
   "cell_type": "markdown",
   "metadata": {},
   "source": [
    "12) Pide al usuario un número y verifica si es positivo y no es mayor que 100."
   ]
  },
  {
   "cell_type": "code",
   "execution_count": 16,
   "metadata": {},
   "outputs": [
    {
     "name": "stdout",
     "output_type": "stream",
     "text": [
      "El número es mayor a 100.\n"
     ]
    }
   ],
   "source": [
    "num_posit = int(input(\"Ingrese un número:\"))\n",
    "\n",
    "if num_posit > 0 and num_posit <= 100:\n",
    "    print(\"El número ingresado es positivo y no es mayor a 100.\")\n",
    "elif num_posit <= 0:\n",
    "    print(\"El número no es positivo.\")\n",
    "else:\n",
    "    print(\"El número es mayor a 100.\")    "
   ]
  },
  {
   "cell_type": "markdown",
   "metadata": {},
   "source": [
    "13) Crear un programa que valide si un número ingresado por el usuario es par y mayor que 20."
   ]
  },
  {
   "cell_type": "code",
   "execution_count": 3,
   "metadata": {},
   "outputs": [
    {
     "name": "stdout",
     "output_type": "stream",
     "text": [
      "20\n",
      "¿El número ingresado es par y mayor que 20? False\n"
     ]
    }
   ],
   "source": [
    "num_par = int(input(\"Ingrese un número\"))\n",
    "print (num_par)\n",
    "\n",
    "print (\"¿El número ingresado es par y mayor que 20?\",num_par % 2 == 0 and num_par > 20 )"
   ]
  },
  {
   "cell_type": "markdown",
   "metadata": {},
   "source": [
    "14) Dada la variable **numero = 5**, realizar la operación necesaria para que número sea igual a 8. Luego imprimir en pantalla el nuevo valor de número y realizar una nueva operación para que el valor de número sea igual a 4 y mostrar en pantalla el nuevo valor."
   ]
  },
  {
   "cell_type": "code",
   "execution_count": 4,
   "metadata": {},
   "outputs": [
    {
     "name": "stdout",
     "output_type": "stream",
     "text": [
      "8\n",
      "4\n"
     ]
    }
   ],
   "source": [
    "numero = 5\n",
    "numero += 3\n",
    "print (numero)\n",
    "numero -= 4\n",
    "print(numero)"
   ]
  },
  {
   "cell_type": "markdown",
   "metadata": {},
   "source": [
    "15) Dadas las variables altura = \"10\" y base = 5, calcular el área de un triángulo y mostrar el resultado en pantalla. ¿Por qué el resultado es un error? ¿Cómo lo corregirías?"
   ]
  },
  {
   "cell_type": "code",
   "execution_count": 6,
   "metadata": {},
   "outputs": [
    {
     "name": "stdout",
     "output_type": "stream",
     "text": [
      "El área del triángulo es igual a: 25.0\n"
     ]
    }
   ],
   "source": [
    "altura = \"10\"\n",
    "base = 5\n",
    "\n",
    "area = int(altura) * base / 2 \n",
    "print(\"El área del triángulo es igual a:\", area)\n",
    "\n",
    "#El resultado es un error porque no se pueden realizar operaciones entre un string y un numero entero, para corregirlo se tiene que pasar el string a un valor entero."
   ]
  },
  {
   "cell_type": "markdown",
   "metadata": {},
   "source": [
    "16) Crea un programa que calcule el promedio de tres calificaciones ingresadas por el usuario, y comprobar si el alumno aprobó o no (aprueba con nota mayor a 6)."
   ]
  },
  {
   "cell_type": "code",
   "execution_count": 11,
   "metadata": {},
   "outputs": [
    {
     "name": "stdout",
     "output_type": "stream",
     "text": [
      "El alumno está APROBADO, su promedio es de 26.0\n"
     ]
    }
   ],
   "source": [
    "nota1 = int(input(\"Ingrese la primer calificación:\"))\n",
    "nota2 = int(input(\"Ingrese la primer calificación:\"))\n",
    "nota3 = int(input(\"Ingrese la primer calificación:\"))\n",
    "\n",
    "suma = nota1+nota2+nota3\n",
    "promedio = suma / 3\n",
    "\n",
    "if promedio >= 6:\n",
    "    print (\"El alumno está APROBADO, su promedio es de\",promedio)\n",
    "else:\n",
    "    print(\"El alumno NO está aprobado, su promedio es de:\",promedio)    \n"
   ]
  },
  {
   "cell_type": "markdown",
   "metadata": {},
   "source": [
    "17) Pide al usuario su edad y calcula cuántos días, horas y minutos ha vivido aproximadamente (asumiendo 365 días por año)."
   ]
  },
  {
   "cell_type": "code",
   "execution_count": 14,
   "metadata": {},
   "outputs": [
    {
     "name": "stdout",
     "output_type": "stream",
     "text": [
      "23\n",
      "La persona ha vivido 8395 días\n",
      "La persona ha vivido 201480 horas\n",
      "La persona ha vivido 12088800 minutos\n"
     ]
    }
   ],
   "source": [
    "edad_usuario = int(input(\"Ingresa tu edad:\"))\n",
    "\n",
    "dias = edad_usuario * 365\n",
    "horas = dias * 24\n",
    "minutos = horas * 60\n",
    "\n",
    "print(edad_usuario)\n",
    "\n",
    "print(f\"La persona ha vivido {dias} días\")\n",
    "print(f\"La persona ha vivido {horas} horas\")\n",
    "print(f\"La persona ha vivido {minutos} minutos\")"
   ]
  },
  {
   "cell_type": "markdown",
   "metadata": {},
   "source": [
    "18) Crea un programa que verifique si un número ingresado por el usuario es múltiplo de 4 y de 6 al mismo tiempo."
   ]
  },
  {
   "cell_type": "code",
   "execution_count": 18,
   "metadata": {},
   "outputs": [
    {
     "name": "stdout",
     "output_type": "stream",
     "text": [
      "¿El número ingresado es múltiplo de 4 y de 6 al mismo tiempo? True\n"
     ]
    }
   ],
   "source": [
    "num_mult = int(input(\"Ingrese un número:\"))\n",
    "\n",
    "print (\"¿El número ingresado es múltiplo de 4 y de 6 al mismo tiempo?\",num_mult % 4 == 0 and num_mult % 6 == 0 )\n",
    "\n"
   ]
  }
 ],
 "metadata": {
  "kernelspec": {
   "display_name": "Python 3",
   "language": "python",
   "name": "python3"
  },
  "language_info": {
   "codemirror_mode": {
    "name": "ipython",
    "version": 3
   },
   "file_extension": ".py",
   "mimetype": "text/x-python",
   "name": "python",
   "nbconvert_exporter": "python",
   "pygments_lexer": "ipython3",
   "version": "3.12.0"
  }
 },
 "nbformat": 4,
 "nbformat_minor": 2
}
